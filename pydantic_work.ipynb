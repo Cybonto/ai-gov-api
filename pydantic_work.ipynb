{
 "cells": [
  {
   "cell_type": "code",
   "execution_count": 1,
   "id": "6b90e7d4-c44e-4990-ba62-c1d9cd3ad11e",
   "metadata": {},
   "outputs": [],
   "source": [
    "import base64\n",
    "import re\n",
    "from typing import overload, Sequence\n",
    "from functools import singledispatch\n",
    "from app.providers.core.schema import ChatRequest, ContentPart, Message, SystemMessage, TextPart, ImagePart, FilePart\n",
    "import app.schema.open_ai as OA \n",
    "\n",
    "from pydantic import TypeAdapter"
   ]
  },
  {
   "cell_type": "code",
   "execution_count": 25,
   "id": "d131ed7c-bd43-411f-bcda-01ee6b4b36a6",
   "metadata": {},
   "outputs": [],
   "source": [
    "\n",
    "# @overload\n",
    "# def _convert_parts(content: str) -> Sequence[TextPart]: ...\n",
    "# @overload\n",
    "# def _convert_parts(content: list[OA.TextContentPart]) -> Sequence[TextPart]: ...\n",
    "# @overload\n",
    "# def _convert_parts(content: list[OA.ContentPart]) -> Sequence[ContentPart]: ...\n",
    "\n",
    "# def _convert_parts(content) -> Sequence[ContentPart]:\n",
    "#     return [_part_to_ir(p) for p in content] if isinstance(content, list) else [_part_to_ir(content)]\n",
    "\n",
    "@singledispatch\n",
    "def _part_to_ir(part) -> ContentPart:\n",
    "    raise TypeError(f\"No converter for {type(part)}\")\n",
    "\n",
    "@_part_to_ir.register\n",
    "def _(part: str) -> TextPart:\n",
    "    return TextPart(text=part)\n",
    "\n",
    "@_part_to_ir.register\n",
    "def _(part: OA.TextContentPart) -> TextPart:\n",
    "    return TextPart(text=part.text)\n",
    "\n",
    "@_part_to_ir.register\n",
    "def _(part: OA.ImageContentPart) -> ImagePart:\n",
    "    b64 = re.sub(\"^data:[^,]+,\", \"\", part.image_url.url)\n",
    "    return ImagePart(bytes=base64.b64decode(b64))\n",
    "\n",
    "@_part_to_ir.register\n",
    "def _(part: OA.FileContentPart) -> FilePart:\n",
    "    return FilePart(\n",
    "        bytes=base64.b64decode(part.file.file_data),\n",
    "        mime_type=\"application/pdf\" # TODO determin mime type for file\n",
    "        )\n",
    "\n",
    "\n",
    "@singledispatch\n",
    "def _convert_message(message) -> SystemMessage | Message:\n",
    "    raise TypeError(f\"No converter for {type(message)}\")\n",
    "\n",
    "@_convert_message.register\n",
    "def _(message: OA.SystemMessage):\n",
    "    return SystemMessage(\n",
    "        role=message.role,\n",
    "        parts=message.content\n",
    "    )\n",
    "\n",
    "MessageAdapter = TypeAdapter(Message)\n",
    "\n",
    "def openai_to_core(req: OA.ChatCompletionRequest) -> ChatRequest:\n",
    "    return ChatRequest(\n",
    "        model=req.model,\n",
    "        temperature=req.temperature,\n",
    "        top_p=req.top_p,\n",
    "        max_tokens=req.max_tokens,\n",
    "        stream=req.stream,\n",
    "        messages=[MessageAdapter.validate_python(m, from_attributes=True) for m in req.messages],\n",
    "    )"
   ]
  },
  {
   "cell_type": "code",
   "execution_count": 23,
   "id": "b5b9241e-06df-4a44-8dfa-bf868ffead19",
   "metadata": {},
   "outputs": [],
   "source": [
    "basic_request = OA.ChatCompletionRequest(\n",
    "    model=\"test_model\",\n",
    "    messages=[\n",
    "        OA.SystemMessage(\n",
    "            role=\"system\",\n",
    "            content=\"do your thing\"\n",
    "        ),\n",
    "        OA.UserMessage(\n",
    "            role=\"user\",\n",
    "            content=[\n",
    "                OA.TextContentPart(\n",
    "                    type=\"text\",\n",
    "                    text=\"Hello\"\n",
    "                ),\n",
    "                OA.TextContentPart(\n",
    "                    type=\"text\",\n",
    "                    text=\"World\"\n",
    "                )\n",
    "            ]\n",
    "        ),\n",
    "        OA.UserMessage(\n",
    "            role=\"user\",\n",
    "            content=\"!\"\n",
    "        )\n",
    "    ]\n",
    ")"
   ]
  },
  {
   "cell_type": "code",
   "execution_count": 24,
   "id": "a1124775-d1ec-4247-86df-2d5da255b766",
   "metadata": {},
   "outputs": [
    {
     "ename": "ValidationError",
     "evalue": "3 validation errors for ChatRequest\nmessages.0.system\n  Input should be a valid dictionary or instance of SystemMessage [type=model_type, input_value=SystemMessage(role='syste... your thing', name=None), input_type=SystemMessage]\n    For further information visit https://errors.pydantic.dev/2.10/v/model_type\nmessages.1.user\n  Input should be a valid dictionary or instance of ActorMessage [type=model_type, input_value=UserMessage(role='user', ...xt='World')], name=None), input_type=UserMessage]\n    For further information visit https://errors.pydantic.dev/2.10/v/model_type\nmessages.2.user\n  Input should be a valid dictionary or instance of ActorMessage [type=model_type, input_value=UserMessage(role='user', content='!', name=None), input_type=UserMessage]\n    For further information visit https://errors.pydantic.dev/2.10/v/model_type",
     "output_type": "error",
     "traceback": [
      "\u001b[31m---------------------------------------------------------------------------\u001b[39m",
      "\u001b[31mValidationError\u001b[39m                           Traceback (most recent call last)",
      "\u001b[36mCell\u001b[39m\u001b[36m \u001b[39m\u001b[32mIn[24]\u001b[39m\u001b[32m, line 1\u001b[39m\n\u001b[32m----> \u001b[39m\u001b[32m1\u001b[39m \u001b[43mopenai_to_core\u001b[49m\u001b[43m(\u001b[49m\u001b[43mbasic_request\u001b[49m\u001b[43m)\u001b[49m\n",
      "\u001b[36mCell\u001b[39m\u001b[36m \u001b[39m\u001b[32mIn[22]\u001b[39m\u001b[32m, line 50\u001b[39m, in \u001b[36mopenai_to_core\u001b[39m\u001b[34m(req)\u001b[39m\n\u001b[32m     49\u001b[39m \u001b[38;5;28;01mdef\u001b[39;00m\u001b[38;5;250m \u001b[39m\u001b[34mopenai_to_core\u001b[39m(req: OA.ChatCompletionRequest) -> ChatRequest:\n\u001b[32m---> \u001b[39m\u001b[32m50\u001b[39m     \u001b[38;5;28;01mreturn\u001b[39;00m \u001b[43mChatRequest\u001b[49m\u001b[43m(\u001b[49m\n\u001b[32m     51\u001b[39m \u001b[43m        \u001b[49m\u001b[43mmodel\u001b[49m\u001b[43m=\u001b[49m\u001b[43mreq\u001b[49m\u001b[43m.\u001b[49m\u001b[43mmodel\u001b[49m\u001b[43m,\u001b[49m\n\u001b[32m     52\u001b[39m \u001b[43m        \u001b[49m\u001b[43mtemperature\u001b[49m\u001b[43m=\u001b[49m\u001b[43mreq\u001b[49m\u001b[43m.\u001b[49m\u001b[43mtemperature\u001b[49m\u001b[43m,\u001b[49m\n\u001b[32m     53\u001b[39m \u001b[43m        \u001b[49m\u001b[43mtop_p\u001b[49m\u001b[43m=\u001b[49m\u001b[43mreq\u001b[49m\u001b[43m.\u001b[49m\u001b[43mtop_p\u001b[49m\u001b[43m,\u001b[49m\n\u001b[32m     54\u001b[39m \u001b[43m        \u001b[49m\u001b[43mmax_tokens\u001b[49m\u001b[43m=\u001b[49m\u001b[43mreq\u001b[49m\u001b[43m.\u001b[49m\u001b[43mmax_tokens\u001b[49m\u001b[43m,\u001b[49m\n\u001b[32m     55\u001b[39m \u001b[43m        \u001b[49m\u001b[43mstream\u001b[49m\u001b[43m=\u001b[49m\u001b[43mreq\u001b[49m\u001b[43m.\u001b[49m\u001b[43mstream\u001b[49m\u001b[43m,\u001b[49m\n\u001b[32m     56\u001b[39m \u001b[43m        \u001b[49m\u001b[43mmessages\u001b[49m\u001b[43m=\u001b[49m\u001b[43mreq\u001b[49m\u001b[43m.\u001b[49m\u001b[43mmessages\u001b[49m\n\u001b[32m     57\u001b[39m \u001b[43m        \u001b[49m\u001b[38;5;66;43;03m#messages=[MessageAdapter.validate_python(m, from_attributes=True) for m in req.messages],\u001b[39;49;00m\n\u001b[32m     58\u001b[39m \u001b[43m    \u001b[49m\u001b[43m)\u001b[49m\n",
      "\u001b[36mFile \u001b[39m\u001b[32m~/Documents/Development/GSA/gsa-ai-api/.venv/lib/python3.11/site-packages/pydantic/main.py:214\u001b[39m, in \u001b[36mBaseModel.__init__\u001b[39m\u001b[34m(self, **data)\u001b[39m\n\u001b[32m    212\u001b[39m \u001b[38;5;66;03m# `__tracebackhide__` tells pytest and some other tools to omit this function from tracebacks\u001b[39;00m\n\u001b[32m    213\u001b[39m __tracebackhide__ = \u001b[38;5;28;01mTrue\u001b[39;00m\n\u001b[32m--> \u001b[39m\u001b[32m214\u001b[39m validated_self = \u001b[38;5;28;43mself\u001b[39;49m\u001b[43m.\u001b[49m\u001b[43m__pydantic_validator__\u001b[49m\u001b[43m.\u001b[49m\u001b[43mvalidate_python\u001b[49m\u001b[43m(\u001b[49m\u001b[43mdata\u001b[49m\u001b[43m,\u001b[49m\u001b[43m \u001b[49m\u001b[43mself_instance\u001b[49m\u001b[43m=\u001b[49m\u001b[38;5;28;43mself\u001b[39;49m\u001b[43m)\u001b[49m\n\u001b[32m    215\u001b[39m \u001b[38;5;28;01mif\u001b[39;00m \u001b[38;5;28mself\u001b[39m \u001b[38;5;129;01mis\u001b[39;00m \u001b[38;5;129;01mnot\u001b[39;00m validated_self:\n\u001b[32m    216\u001b[39m     warnings.warn(\n\u001b[32m    217\u001b[39m         \u001b[33m'\u001b[39m\u001b[33mA custom validator is returning a value other than `self`.\u001b[39m\u001b[38;5;130;01m\\n\u001b[39;00m\u001b[33m'\u001b[39m\n\u001b[32m    218\u001b[39m         \u001b[33m\"\u001b[39m\u001b[33mReturning anything other than `self` from a top level model validator isn\u001b[39m\u001b[33m'\u001b[39m\u001b[33mt supported when validating via `__init__`.\u001b[39m\u001b[38;5;130;01m\\n\u001b[39;00m\u001b[33m\"\u001b[39m\n\u001b[32m    219\u001b[39m         \u001b[33m'\u001b[39m\u001b[33mSee the `model_validator` docs (https://docs.pydantic.dev/latest/concepts/validators/#model-validators) for more details.\u001b[39m\u001b[33m'\u001b[39m,\n\u001b[32m    220\u001b[39m         stacklevel=\u001b[32m2\u001b[39m,\n\u001b[32m    221\u001b[39m     )\n",
      "\u001b[31mValidationError\u001b[39m: 3 validation errors for ChatRequest\nmessages.0.system\n  Input should be a valid dictionary or instance of SystemMessage [type=model_type, input_value=SystemMessage(role='syste... your thing', name=None), input_type=SystemMessage]\n    For further information visit https://errors.pydantic.dev/2.10/v/model_type\nmessages.1.user\n  Input should be a valid dictionary or instance of ActorMessage [type=model_type, input_value=UserMessage(role='user', ...xt='World')], name=None), input_type=UserMessage]\n    For further information visit https://errors.pydantic.dev/2.10/v/model_type\nmessages.2.user\n  Input should be a valid dictionary or instance of ActorMessage [type=model_type, input_value=UserMessage(role='user', content='!', name=None), input_type=UserMessage]\n    For further information visit https://errors.pydantic.dev/2.10/v/model_type"
     ]
    }
   ],
   "source": [
    "openai_to_core(basic_request)"
   ]
  },
  {
   "cell_type": "code",
   "execution_count": 6,
   "id": "e9e34970-af01-4c45-87fa-760b3668bbfd",
   "metadata": {},
   "outputs": [
    {
     "data": {
      "text/plain": [
       "ChatCompletionRequest(model='test_model', messages=[SystemMessage(role='system', content='do your thing', name=None)], temperature=None, top_p=None, n=None, stream=False, stop=None, max_tokens=None, presence_penalty=0, frequency_penalty=0, logit_bias=None, user=None)"
      ]
     },
     "execution_count": 6,
     "metadata": {},
     "output_type": "execute_result"
    }
   ],
   "source": [
    "basic_request"
   ]
  },
  {
   "cell_type": "code",
   "execution_count": 43,
   "id": "7751ed4c-4be3-4465-aa83-b3cca9ded47d",
   "metadata": {},
   "outputs": [
    {
     "data": {
      "text/plain": [
       "ChatCompletionRequest(model='test_model', messages=[SystemMessage(role='system', content='do your thing', name=None), UserMessage(role='user', content=[TextContentPart(type='text', text='Hello'), TextContentPart(type='text', text='World')], name=None), UserMessage(role='user', content='!', name=None)], temperature=None, top_p=None, n=None, stream=False, stop=None, max_tokens=None, presence_penalty=0, frequency_penalty=0, logit_bias=None, user=None)"
      ]
     },
     "execution_count": 43,
     "metadata": {},
     "output_type": "execute_result"
    }
   ],
   "source": [
    "OA.ChatCompletionRequest.model_validate(basic_request)"
   ]
  },
  {
   "cell_type": "code",
   "execution_count": 46,
   "id": "5142ad1f-849a-46d4-8106-bbb37cd97846",
   "metadata": {},
   "outputs": [
    {
     "ename": "ValidationError",
     "evalue": "1 validation error for Message\nparts\n  'str' instances are not allowed as a Sequence value [type=sequence_str, input_value='hello', input_type=str]",
     "output_type": "error",
     "traceback": [
      "\u001b[31m---------------------------------------------------------------------------\u001b[39m",
      "\u001b[31mValidationError\u001b[39m                           Traceback (most recent call last)",
      "\u001b[36mCell\u001b[39m\u001b[36m \u001b[39m\u001b[32mIn[46]\u001b[39m\u001b[32m, line 1\u001b[39m\n\u001b[32m----> \u001b[39m\u001b[32m1\u001b[39m \u001b[43mMessage\u001b[49m\u001b[43m(\u001b[49m\u001b[43mrole\u001b[49m\u001b[43m=\u001b[49m\u001b[33;43m'\u001b[39;49m\u001b[33;43muser\u001b[39;49m\u001b[33;43m'\u001b[39;49m\u001b[43m,\u001b[49m\u001b[43m \u001b[49m\u001b[43mparts\u001b[49m\u001b[43m=\u001b[49m\u001b[33;43m\"\u001b[39;49m\u001b[33;43mhello\u001b[39;49m\u001b[33;43m\"\u001b[39;49m\u001b[43m)\u001b[49m\n",
      "\u001b[36mFile \u001b[39m\u001b[32m~/Documents/Development/GSA/gsa-ai-api/.venv/lib/python3.11/site-packages/pydantic/main.py:214\u001b[39m, in \u001b[36mBaseModel.__init__\u001b[39m\u001b[34m(self, **data)\u001b[39m\n\u001b[32m    212\u001b[39m \u001b[38;5;66;03m# `__tracebackhide__` tells pytest and some other tools to omit this function from tracebacks\u001b[39;00m\n\u001b[32m    213\u001b[39m __tracebackhide__ = \u001b[38;5;28;01mTrue\u001b[39;00m\n\u001b[32m--> \u001b[39m\u001b[32m214\u001b[39m validated_self = \u001b[38;5;28;43mself\u001b[39;49m\u001b[43m.\u001b[49m\u001b[43m__pydantic_validator__\u001b[49m\u001b[43m.\u001b[49m\u001b[43mvalidate_python\u001b[49m\u001b[43m(\u001b[49m\u001b[43mdata\u001b[49m\u001b[43m,\u001b[49m\u001b[43m \u001b[49m\u001b[43mself_instance\u001b[49m\u001b[43m=\u001b[49m\u001b[38;5;28;43mself\u001b[39;49m\u001b[43m)\u001b[49m\n\u001b[32m    215\u001b[39m \u001b[38;5;28;01mif\u001b[39;00m \u001b[38;5;28mself\u001b[39m \u001b[38;5;129;01mis\u001b[39;00m \u001b[38;5;129;01mnot\u001b[39;00m validated_self:\n\u001b[32m    216\u001b[39m     warnings.warn(\n\u001b[32m    217\u001b[39m         \u001b[33m'\u001b[39m\u001b[33mA custom validator is returning a value other than `self`.\u001b[39m\u001b[38;5;130;01m\\n\u001b[39;00m\u001b[33m'\u001b[39m\n\u001b[32m    218\u001b[39m         \u001b[33m\"\u001b[39m\u001b[33mReturning anything other than `self` from a top level model validator isn\u001b[39m\u001b[33m'\u001b[39m\u001b[33mt supported when validating via `__init__`.\u001b[39m\u001b[38;5;130;01m\\n\u001b[39;00m\u001b[33m\"\u001b[39m\n\u001b[32m    219\u001b[39m         \u001b[33m'\u001b[39m\u001b[33mSee the `model_validator` docs (https://docs.pydantic.dev/latest/concepts/validators/#model-validators) for more details.\u001b[39m\u001b[33m'\u001b[39m,\n\u001b[32m    220\u001b[39m         stacklevel=\u001b[32m2\u001b[39m,\n\u001b[32m    221\u001b[39m     )\n",
      "\u001b[31mValidationError\u001b[39m: 1 validation error for Message\nparts\n  'str' instances are not allowed as a Sequence value [type=sequence_str, input_value='hello', input_type=str]"
     ]
    }
   ],
   "source": [
    " Message(role='user', parts=\"hello\")"
   ]
  },
  {
   "cell_type": "code",
   "execution_count": 18,
   "id": "b3fe4809-a6c5-4a7f-ba62-1ff9d5306e73",
   "metadata": {},
   "outputs": [
    {
     "name": "stdout",
     "output_type": "stream",
     "text": [
      "running validator\n"
     ]
    },
    {
     "data": {
      "text/plain": [
       "SystemMessage(role='system', parts=[TextPart(kind='text', text='hello')])"
      ]
     },
     "execution_count": 18,
     "metadata": {},
     "output_type": "execute_result"
    }
   ],
   "source": [
    "from typing import Sequence, Annotated, Literal, Any\n",
    "from pydantic import BaseModel, BeforeValidator, Field, TypeAdapter\n",
    "\n",
    "def ensure_list(value: Any) -> Any:  \n",
    "    print(\"running validator\")\n",
    "    if not isinstance(value, list):  \n",
    "        return [{\"kind\":\"text\", \"text\": value}]\n",
    "    else:\n",
    "        return value\n",
    "\n",
    "\n",
    "ContentPart = Annotated[TextPart | ImagePart | FilePart, Field(discriminator=\"kind\")]\n",
    "\n",
    "\n",
    "class ActorMessage(BaseModel):\n",
    "    role: Literal[\"user\", \"assistant\"]\n",
    "    parts: Annotated[Sequence[ContentPart], BeforeValidator(ensure_list)]\n",
    "\n",
    "class SystemMessage(BaseModel):\n",
    "    role: Literal['system'] = \"system\"\n",
    "    parts: Annotated[Sequence[ContentPart], BeforeValidator(ensure_list)]\n",
    "\n",
    "\n",
    "Message = Annotated[ActorMessage | SystemMessage, Field(discriminator=\"role\")]\n",
    "MessageAdapter = TypeAdapter(Message)\n",
    "\n",
    "MessageAdapter.validate_python({\"role\": \"system\", \"parts\":\"hello\" })"
   ]
  },
  {
   "cell_type": "code",
   "execution_count": 8,
   "id": "bc317053-965e-4525-8af0-df6e1784aa57",
   "metadata": {},
   "outputs": [
    {
     "name": "stdout",
     "output_type": "stream",
     "text": [
      "running validator\n"
     ]
    },
    {
     "ename": "ValidationError",
     "evalue": "1 validation error for Message\nrole\n  Input should be 'user' or 'assistant' [type=literal_error, input_value='system', input_type=str]\n    For further information visit https://errors.pydantic.dev/2.10/v/literal_error",
     "output_type": "error",
     "traceback": [
      "\u001b[31m---------------------------------------------------------------------------\u001b[39m",
      "\u001b[31mValidationError\u001b[39m                           Traceback (most recent call last)",
      "\u001b[36mCell\u001b[39m\u001b[36m \u001b[39m\u001b[32mIn[8]\u001b[39m\u001b[32m, line 1\u001b[39m\n\u001b[32m----> \u001b[39m\u001b[32m1\u001b[39m \u001b[43mMessage\u001b[49m\u001b[43m.\u001b[49m\u001b[43mmodel_validate\u001b[49m\u001b[43m(\u001b[49m\u001b[43m{\u001b[49m\u001b[33;43m\"\u001b[39;49m\u001b[33;43mrole\u001b[39;49m\u001b[33;43m\"\u001b[39;49m\u001b[43m:\u001b[49m\u001b[43m \u001b[49m\u001b[33;43m\"\u001b[39;49m\u001b[33;43msystem\u001b[39;49m\u001b[33;43m\"\u001b[39;49m\u001b[43m,\u001b[49m\u001b[43m \u001b[49m\u001b[33;43m\"\u001b[39;49m\u001b[33;43mparts\u001b[39;49m\u001b[33;43m\"\u001b[39;49m\u001b[43m:\u001b[49m\u001b[43m[\u001b[49m\u001b[43m{\u001b[49m\u001b[33;43m\"\u001b[39;49m\u001b[33;43mkind\u001b[39;49m\u001b[33;43m\"\u001b[39;49m\u001b[43m:\u001b[49m\u001b[33;43m\"\u001b[39;49m\u001b[33;43mtext\u001b[39;49m\u001b[33;43m\"\u001b[39;49m\u001b[43m,\u001b[49m\u001b[43m \u001b[49m\u001b[33;43m\"\u001b[39;49m\u001b[33;43mtext\u001b[39;49m\u001b[33;43m\"\u001b[39;49m\u001b[43m:\u001b[49m\u001b[33;43m\"\u001b[39;49m\u001b[33;43mhello\u001b[39;49m\u001b[33;43m\"\u001b[39;49m\u001b[43m}\u001b[49m\u001b[43m]\u001b[49m\u001b[43m \u001b[49m\u001b[43m}\u001b[49m\u001b[43m)\u001b[49m\n",
      "\u001b[36mFile \u001b[39m\u001b[32m~/Documents/Development/GSA/gsa-ai-api/.venv/lib/python3.11/site-packages/pydantic/main.py:627\u001b[39m, in \u001b[36mBaseModel.model_validate\u001b[39m\u001b[34m(cls, obj, strict, from_attributes, context)\u001b[39m\n\u001b[32m    625\u001b[39m \u001b[38;5;66;03m# `__tracebackhide__` tells pytest and some other tools to omit this function from tracebacks\u001b[39;00m\n\u001b[32m    626\u001b[39m __tracebackhide__ = \u001b[38;5;28;01mTrue\u001b[39;00m\n\u001b[32m--> \u001b[39m\u001b[32m627\u001b[39m \u001b[38;5;28;01mreturn\u001b[39;00m \u001b[38;5;28;43mcls\u001b[39;49m\u001b[43m.\u001b[49m\u001b[43m__pydantic_validator__\u001b[49m\u001b[43m.\u001b[49m\u001b[43mvalidate_python\u001b[49m\u001b[43m(\u001b[49m\n\u001b[32m    628\u001b[39m \u001b[43m    \u001b[49m\u001b[43mobj\u001b[49m\u001b[43m,\u001b[49m\u001b[43m \u001b[49m\u001b[43mstrict\u001b[49m\u001b[43m=\u001b[49m\u001b[43mstrict\u001b[49m\u001b[43m,\u001b[49m\u001b[43m \u001b[49m\u001b[43mfrom_attributes\u001b[49m\u001b[43m=\u001b[49m\u001b[43mfrom_attributes\u001b[49m\u001b[43m,\u001b[49m\u001b[43m \u001b[49m\u001b[43mcontext\u001b[49m\u001b[43m=\u001b[49m\u001b[43mcontext\u001b[49m\n\u001b[32m    629\u001b[39m \u001b[43m\u001b[49m\u001b[43m)\u001b[49m\n",
      "\u001b[31mValidationError\u001b[39m: 1 validation error for Message\nrole\n  Input should be 'user' or 'assistant' [type=literal_error, input_value='system', input_type=str]\n    For further information visit https://errors.pydantic.dev/2.10/v/literal_error"
     ]
    }
   ],
   "source": [
    "Message.model_validate({\"role\": \"system\", \"parts\":[{\"kind\":\"text\", \"text\":\"hello\"}] })"
   ]
  },
  {
   "cell_type": "code",
   "execution_count": null,
   "id": "959a97f6-07aa-47f9-a8d9-373d03407c0e",
   "metadata": {},
   "outputs": [],
   "source": []
  }
 ],
 "metadata": {
  "kernelspec": {
   "display_name": "Python 3 (ipykernel)",
   "language": "python",
   "name": "python3"
  },
  "language_info": {
   "codemirror_mode": {
    "name": "ipython",
    "version": 3
   },
   "file_extension": ".py",
   "mimetype": "text/x-python",
   "name": "python",
   "nbconvert_exporter": "python",
   "pygments_lexer": "ipython3",
   "version": "3.11.11"
  }
 },
 "nbformat": 4,
 "nbformat_minor": 5
}
